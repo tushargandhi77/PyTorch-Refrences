{
 "cells": [
  {
   "cell_type": "code",
   "execution_count": 4,
   "id": "d84a2a59",
   "metadata": {},
   "outputs": [],
   "source": [
    "import pandas as pd\n",
    "from sklearn.model_selection import train_test_split\n",
    "import torch\n",
    "from torch.utils.data import Dataset,DataLoader\n",
    "import torch.nn  as nn\n",
    "import torch.optim as optim\n",
    "import matplotlib.pyplot as plt"
   ]
  },
  {
   "cell_type": "code",
   "execution_count": 5,
   "id": "e71e694a",
   "metadata": {},
   "outputs": [
    {
     "data": {
      "text/plain": [
       "<torch._C.Generator at 0x24da076f790>"
      ]
     },
     "execution_count": 5,
     "metadata": {},
     "output_type": "execute_result"
    }
   ],
   "source": [
    "torch.manual_seed(42)"
   ]
  },
  {
   "cell_type": "code",
   "execution_count": 6,
   "id": "9f1a0a22",
   "metadata": {},
   "outputs": [
    {
     "data": {
      "text/html": [
       "<div>\n",
       "<style scoped>\n",
       "    .dataframe tbody tr th:only-of-type {\n",
       "        vertical-align: middle;\n",
       "    }\n",
       "\n",
       "    .dataframe tbody tr th {\n",
       "        vertical-align: top;\n",
       "    }\n",
       "\n",
       "    .dataframe thead th {\n",
       "        text-align: right;\n",
       "    }\n",
       "</style>\n",
       "<table border=\"1\" class=\"dataframe\">\n",
       "  <thead>\n",
       "    <tr style=\"text-align: right;\">\n",
       "      <th></th>\n",
       "      <th>label</th>\n",
       "      <th>pixel1</th>\n",
       "      <th>pixel2</th>\n",
       "      <th>pixel3</th>\n",
       "      <th>pixel4</th>\n",
       "      <th>pixel5</th>\n",
       "      <th>pixel6</th>\n",
       "      <th>pixel7</th>\n",
       "      <th>pixel8</th>\n",
       "      <th>pixel9</th>\n",
       "      <th>...</th>\n",
       "      <th>pixel775</th>\n",
       "      <th>pixel776</th>\n",
       "      <th>pixel777</th>\n",
       "      <th>pixel778</th>\n",
       "      <th>pixel779</th>\n",
       "      <th>pixel780</th>\n",
       "      <th>pixel781</th>\n",
       "      <th>pixel782</th>\n",
       "      <th>pixel783</th>\n",
       "      <th>pixel784</th>\n",
       "    </tr>\n",
       "  </thead>\n",
       "  <tbody>\n",
       "    <tr>\n",
       "      <th>0</th>\n",
       "      <td>9</td>\n",
       "      <td>0</td>\n",
       "      <td>0</td>\n",
       "      <td>0</td>\n",
       "      <td>0</td>\n",
       "      <td>0</td>\n",
       "      <td>0</td>\n",
       "      <td>0</td>\n",
       "      <td>0</td>\n",
       "      <td>0</td>\n",
       "      <td>...</td>\n",
       "      <td>0</td>\n",
       "      <td>7</td>\n",
       "      <td>0</td>\n",
       "      <td>50</td>\n",
       "      <td>205</td>\n",
       "      <td>196</td>\n",
       "      <td>213</td>\n",
       "      <td>165</td>\n",
       "      <td>0</td>\n",
       "      <td>0</td>\n",
       "    </tr>\n",
       "    <tr>\n",
       "      <th>1</th>\n",
       "      <td>7</td>\n",
       "      <td>0</td>\n",
       "      <td>0</td>\n",
       "      <td>0</td>\n",
       "      <td>0</td>\n",
       "      <td>0</td>\n",
       "      <td>0</td>\n",
       "      <td>0</td>\n",
       "      <td>0</td>\n",
       "      <td>0</td>\n",
       "      <td>...</td>\n",
       "      <td>0</td>\n",
       "      <td>0</td>\n",
       "      <td>0</td>\n",
       "      <td>0</td>\n",
       "      <td>0</td>\n",
       "      <td>0</td>\n",
       "      <td>0</td>\n",
       "      <td>0</td>\n",
       "      <td>0</td>\n",
       "      <td>0</td>\n",
       "    </tr>\n",
       "    <tr>\n",
       "      <th>2</th>\n",
       "      <td>0</td>\n",
       "      <td>0</td>\n",
       "      <td>0</td>\n",
       "      <td>0</td>\n",
       "      <td>0</td>\n",
       "      <td>0</td>\n",
       "      <td>1</td>\n",
       "      <td>0</td>\n",
       "      <td>0</td>\n",
       "      <td>0</td>\n",
       "      <td>...</td>\n",
       "      <td>142</td>\n",
       "      <td>142</td>\n",
       "      <td>142</td>\n",
       "      <td>21</td>\n",
       "      <td>0</td>\n",
       "      <td>3</td>\n",
       "      <td>0</td>\n",
       "      <td>0</td>\n",
       "      <td>0</td>\n",
       "      <td>0</td>\n",
       "    </tr>\n",
       "    <tr>\n",
       "      <th>3</th>\n",
       "      <td>8</td>\n",
       "      <td>0</td>\n",
       "      <td>0</td>\n",
       "      <td>0</td>\n",
       "      <td>0</td>\n",
       "      <td>0</td>\n",
       "      <td>0</td>\n",
       "      <td>0</td>\n",
       "      <td>0</td>\n",
       "      <td>0</td>\n",
       "      <td>...</td>\n",
       "      <td>0</td>\n",
       "      <td>0</td>\n",
       "      <td>0</td>\n",
       "      <td>0</td>\n",
       "      <td>0</td>\n",
       "      <td>0</td>\n",
       "      <td>0</td>\n",
       "      <td>0</td>\n",
       "      <td>0</td>\n",
       "      <td>0</td>\n",
       "    </tr>\n",
       "    <tr>\n",
       "      <th>4</th>\n",
       "      <td>8</td>\n",
       "      <td>0</td>\n",
       "      <td>0</td>\n",
       "      <td>0</td>\n",
       "      <td>0</td>\n",
       "      <td>0</td>\n",
       "      <td>0</td>\n",
       "      <td>0</td>\n",
       "      <td>0</td>\n",
       "      <td>0</td>\n",
       "      <td>...</td>\n",
       "      <td>213</td>\n",
       "      <td>203</td>\n",
       "      <td>174</td>\n",
       "      <td>151</td>\n",
       "      <td>188</td>\n",
       "      <td>10</td>\n",
       "      <td>0</td>\n",
       "      <td>0</td>\n",
       "      <td>0</td>\n",
       "      <td>0</td>\n",
       "    </tr>\n",
       "  </tbody>\n",
       "</table>\n",
       "<p>5 rows × 785 columns</p>\n",
       "</div>"
      ],
      "text/plain": [
       "   label  pixel1  pixel2  pixel3  pixel4  pixel5  pixel6  pixel7  pixel8  \\\n",
       "0      9       0       0       0       0       0       0       0       0   \n",
       "1      7       0       0       0       0       0       0       0       0   \n",
       "2      0       0       0       0       0       0       1       0       0   \n",
       "3      8       0       0       0       0       0       0       0       0   \n",
       "4      8       0       0       0       0       0       0       0       0   \n",
       "\n",
       "   pixel9  ...  pixel775  pixel776  pixel777  pixel778  pixel779  pixel780  \\\n",
       "0       0  ...         0         7         0        50       205       196   \n",
       "1       0  ...         0         0         0         0         0         0   \n",
       "2       0  ...       142       142       142        21         0         3   \n",
       "3       0  ...         0         0         0         0         0         0   \n",
       "4       0  ...       213       203       174       151       188        10   \n",
       "\n",
       "   pixel781  pixel782  pixel783  pixel784  \n",
       "0       213       165         0         0  \n",
       "1         0         0         0         0  \n",
       "2         0         0         0         0  \n",
       "3         0         0         0         0  \n",
       "4         0         0         0         0  \n",
       "\n",
       "[5 rows x 785 columns]"
      ]
     },
     "execution_count": 6,
     "metadata": {},
     "output_type": "execute_result"
    }
   ],
   "source": [
    "df = pd.read_csv('data/fmnist_small.csv')\n",
    "df.head()"
   ]
  },
  {
   "cell_type": "code",
   "execution_count": 8,
   "id": "cfad5092",
   "metadata": {},
   "outputs": [
    {
     "data": {
      "image/png": "[encoded data removed]",
      "text/plain": [
       "<Figure size 1000x1000 with 16 Axes>"
      ]
     },
     "metadata": {},
     "output_type": "display_data"
    }
   ],
   "source": [
    "# create a 4x4 grid of images\n",
    "fig, axes = plt.subplots(4,4,figsize=(10,10))\n",
    "fig.suptitle(\"First 15 images\",fontsize=15)\n",
    "\n",
    "for i ,ax in enumerate(axes.flat):\n",
    "    img = df.iloc[i,1:].values.reshape(28,28)\n",
    "    ax.imshow(img)\n",
    "    ax.axis('off')\n",
    "    ax.set_title(f\"Label: {df.iloc[i,0]}\")\n",
    "\n",
    "plt.tight_layout(rect=[0,0,1,0.96])\n",
    "plt.show()\n",
    "    "
   ]
  },
  {
   "cell_type": "code",
   "execution_count": 9,
   "id": "27455845",
   "metadata": {},
   "outputs": [],
   "source": [
    "# train test split\n",
    "\n",
    "X = df.iloc[:,1:].values\n",
    "y = df.iloc[:,0].values"
   ]
  },
  {
   "cell_type": "code",
   "execution_count": 10,
   "id": "bae9b782",
   "metadata": {},
   "outputs": [],
   "source": [
    "X_train,X_test,y_train,y_test = train_test_split(X,y,test_size=0.2,random_state=42)"
   ]
  },
  {
   "cell_type": "code",
   "execution_count": 11,
   "id": "3e2d1146",
   "metadata": {},
   "outputs": [
    {
     "data": {
      "text/plain": [
       "(4800, 784)"
      ]
     },
     "execution_count": 11,
     "metadata": {},
     "output_type": "execute_result"
    }
   ],
   "source": [
    "X_train.shape"
   ]
  },
  {
   "cell_type": "code",
   "execution_count": 12,
   "id": "75b74278",
   "metadata": {},
   "outputs": [],
   "source": [
    "X_train = X_train/255.0\n",
    "X_test = X_test/255.0"
   ]
  },
  {
   "cell_type": "code",
   "execution_count": 13,
   "id": "30b715a4",
   "metadata": {},
   "outputs": [
    {
     "data": {
      "text/plain": [
       "array([[0.       , 0.       , 0.       , ..., 0.       , 0.       ,\n",
       "        0.       ],\n",
       "       [0.       , 0.       , 0.       , ..., 0.       , 0.       ,\n",
       "        0.       ],\n",
       "       [0.       , 0.       , 0.       , ..., 0.       , 0.       ,\n",
       "        0.       ],\n",
       "       ...,\n",
       "       [0.       , 0.       , 0.       , ..., 0.       , 0.       ,\n",
       "        0.       ],\n",
       "       [0.       , 0.       , 0.       , ..., 0.       , 0.       ,\n",
       "        0.       ],\n",
       "       [0.       , 0.       , 0.       , ..., 0.0627451, 0.       ,\n",
       "        0.       ]], shape=(4800, 784))"
      ]
     },
     "execution_count": 13,
     "metadata": {},
     "output_type": "execute_result"
    }
   ],
   "source": [
    "X_train"
   ]
  },
  {
   "cell_type": "code",
   "execution_count": 14,
   "id": "bfdf598e",
   "metadata": {},
   "outputs": [],
   "source": [
    "# class CustomDataset Class\n",
    "class CustomDataset(Dataset):\n",
    "    def __init__(self,features,labels):\n",
    "        self.features = torch.tensor(features,dtype=torch.float32)\n",
    "        self.labels = torch.tensor(labels,dtype=torch.long)\n",
    "    \n",
    "    def __len__(self):\n",
    "        return len(self.features)\n",
    "    \n",
    "    def __getitem__(self,index):\n",
    "        return self.features[index] , self.labels[index]\n"
   ]
  },
  {
   "cell_type": "code",
   "execution_count": 15,
   "id": "04588a47",
   "metadata": {},
   "outputs": [],
   "source": [
    "# create train_dataset object\n",
    "train_dataset = CustomDataset(X_train,y_train)"
   ]
  },
  {
   "cell_type": "code",
   "execution_count": 17,
   "id": "f73ca6c1",
   "metadata": {},
   "outputs": [],
   "source": [
    "# create test dataset object\n",
    "test_dataset = CustomDataset(X_test,y_test)"
   ]
  },
  {
   "cell_type": "code",
   "execution_count": 18,
   "id": "49885b5e",
   "metadata": {},
   "outputs": [],
   "source": [
    "# create train and test loader\n",
    "train_loader = DataLoader(train_dataset,batch_size=32,shuffle=True)\n",
    "test_loader = DataLoader(test_dataset,batch_size=32,shuffle=False)"
   ]
  },
  {
   "cell_type": "code",
   "execution_count": 22,
   "id": "becfdff3",
   "metadata": {},
   "outputs": [],
   "source": [
    "# define the NN class\n",
    "\n",
    "class MyNN(nn.Module):\n",
    "    def __init__(self,num_features):\n",
    "\n",
    "        super().__init__()\n",
    "\n",
    "        self.model = nn.Sequential(\n",
    "            nn.Linear(num_features,128),\n",
    "            nn.ReLU(),\n",
    "            nn.Linear(128,64),\n",
    "            nn.ReLU(),\n",
    "            nn.Linear(64,10)\n",
    "        )\n",
    "\n",
    "    def forward(self,x):\n",
    "\n",
    "        return self.model(x)"
   ]
  },
  {
   "cell_type": "code",
   "execution_count": 23,
   "id": "692c7736",
   "metadata": {},
   "outputs": [],
   "source": [
    "# set learning rate and epochs\n",
    "\n",
    "epochs = 100\n",
    "learning_rate = 0.1"
   ]
  },
  {
   "cell_type": "code",
   "execution_count": 24,
   "id": "4435fdf0",
   "metadata": {},
   "outputs": [],
   "source": [
    "# initiate the model\n",
    "\n",
    "model = MyNN(num_features=X_train.shape[1])\n",
    "\n",
    "# loss function\n",
    "\n",
    "criterion = nn.CrossEntropyLoss()\n",
    "\n",
    "#optimizer \n",
    "optimizer = optim.SGD(model.parameters(),lr = learning_rate)"
   ]
  },
  {
   "cell_type": "code",
   "execution_count": 25,
   "id": "755a842a",
   "metadata": {},
   "outputs": [
    {
     "data": {
      "text/plain": [
       "150"
      ]
     },
     "execution_count": 25,
     "metadata": {},
     "output_type": "execute_result"
    }
   ],
   "source": [
    "len(train_loader)"
   ]
  },
  {
   "cell_type": "code",
   "execution_count": 26,
   "id": "8f3c9706",
   "metadata": {},
   "outputs": [
    {
     "name": "stdout",
     "output_type": "stream",
     "text": [
      "epoch 1 loss 1.3216368520259858\n",
      "__________________________________________________\n",
      "epoch 2 loss 0.7793365434805553\n",
      "__________________________________________________\n",
      "epoch 3 loss 0.6427524582544962\n",
      "__________________________________________________\n",
      "epoch 4 loss 0.5751657412449519\n",
      "__________________________________________________\n",
      "epoch 5 loss 0.5281801844636599\n",
      "__________________________________________________\n",
      "epoch 6 loss 0.49528749744097395\n",
      "__________________________________________________\n",
      "epoch 7 loss 0.46024330735206603\n",
      "__________________________________________________\n",
      "epoch 8 loss 0.4359459040562312\n",
      "__________________________________________________\n",
      "epoch 9 loss 0.4182921407620112\n",
      "__________________________________________________\n",
      "epoch 10 loss 0.39840922340750695\n",
      "__________________________________________________\n",
      "epoch 11 loss 0.38502645343542097\n",
      "__________________________________________________\n",
      "epoch 12 loss 0.37226854960123695\n",
      "__________________________________________________\n",
      "epoch 13 loss 0.34773620108763376\n",
      "__________________________________________________\n",
      "epoch 14 loss 0.3467242036263148\n",
      "__________________________________________________\n",
      "epoch 15 loss 0.31388127446174624\n",
      "__________________________________________________\n",
      "epoch 16 loss 0.31264610717693964\n",
      "__________________________________________________\n",
      "epoch 17 loss 0.2955209167301655\n",
      "__________________________________________________\n",
      "epoch 18 loss 0.2857150891423225\n",
      "__________________________________________________\n",
      "epoch 19 loss 0.27084775576988857\n",
      "__________________________________________________\n",
      "epoch 20 loss 0.26237099590400853\n",
      "__________________________________________________\n",
      "epoch 21 loss 0.25756089265147847\n",
      "__________________________________________________\n",
      "epoch 22 loss 0.24232647503415744\n",
      "__________________________________________________\n",
      "epoch 23 loss 0.2395795091489951\n",
      "__________________________________________________\n",
      "epoch 24 loss 0.22613244391977788\n",
      "__________________________________________________\n",
      "epoch 25 loss 0.22336845231552918\n",
      "__________________________________________________\n",
      "epoch 26 loss 0.2134572091201941\n",
      "__________________________________________________\n",
      "epoch 27 loss 0.21370213091373444\n",
      "__________________________________________________\n",
      "epoch 28 loss 0.2083437298114101\n",
      "__________________________________________________\n",
      "epoch 29 loss 0.1858825641249617\n",
      "__________________________________________________\n",
      "epoch 30 loss 0.18441600831846397\n",
      "__________________________________________________\n",
      "epoch 31 loss 0.18828137833625078\n",
      "__________________________________________________\n",
      "epoch 32 loss 0.18769588071852922\n",
      "__________________________________________________\n",
      "epoch 33 loss 0.17405038087318342\n",
      "__________________________________________________\n",
      "epoch 34 loss 0.16484941868732372\n",
      "__________________________________________________\n",
      "epoch 35 loss 0.1615421183904012\n",
      "__________________________________________________\n",
      "epoch 36 loss 0.17676436617970467\n",
      "__________________________________________________\n",
      "epoch 37 loss 0.18757611657182374\n",
      "__________________________________________________\n",
      "epoch 38 loss 0.15871901324639717\n",
      "__________________________________________________\n",
      "epoch 39 loss 0.14468061067163945\n",
      "__________________________________________________\n",
      "epoch 40 loss 0.14784337318579976\n",
      "__________________________________________________\n",
      "epoch 41 loss 0.1350587461143732\n",
      "__________________________________________________\n",
      "epoch 42 loss 0.14011115270356336\n",
      "__________________________________________________\n",
      "epoch 43 loss 0.1275794529976944\n",
      "__________________________________________________\n",
      "epoch 44 loss 0.12052767661089699\n",
      "__________________________________________________\n",
      "epoch 45 loss 0.11043427612632513\n",
      "__________________________________________________\n",
      "epoch 46 loss 0.12589619462688764\n",
      "__________________________________________________\n",
      "epoch 47 loss 0.1284211161111792\n",
      "__________________________________________________\n",
      "epoch 48 loss 0.10574629889801145\n",
      "__________________________________________________\n",
      "epoch 49 loss 0.0949841736909002\n",
      "__________________________________________________\n",
      "epoch 50 loss 0.11242484111959736\n",
      "__________________________________________________\n",
      "epoch 51 loss 0.09330512387678028\n",
      "__________________________________________________\n",
      "epoch 52 loss 0.08407879096300652\n",
      "__________________________________________________\n",
      "epoch 53 loss 0.09277596987163027\n",
      "__________________________________________________\n",
      "epoch 54 loss 0.10178286528525253\n",
      "__________________________________________________\n",
      "epoch 55 loss 0.07498920392089833\n",
      "__________________________________________________\n",
      "epoch 56 loss 0.08346901586589714\n",
      "__________________________________________________\n",
      "epoch 57 loss 0.09302986023637155\n",
      "__________________________________________________\n",
      "epoch 58 loss 0.09038803888795277\n",
      "__________________________________________________\n",
      "epoch 59 loss 0.08965305592864752\n",
      "__________________________________________________\n",
      "epoch 60 loss 0.08205105245734255\n",
      "__________________________________________________\n",
      "epoch 61 loss 0.11790011550455044\n",
      "__________________________________________________\n",
      "epoch 62 loss 0.06921661737685403\n",
      "__________________________________________________\n",
      "epoch 63 loss 0.08905926372545461\n",
      "__________________________________________________\n",
      "epoch 64 loss 0.06699970449941854\n",
      "__________________________________________________\n",
      "epoch 65 loss 0.09641205335423972\n",
      "__________________________________________________\n",
      "epoch 66 loss 0.056933292221898836\n",
      "__________________________________________________\n",
      "epoch 67 loss 0.049644490966262916\n",
      "__________________________________________________\n",
      "epoch 68 loss 0.06897287766371543\n",
      "__________________________________________________\n",
      "epoch 69 loss 0.06350998203270138\n",
      "__________________________________________________\n",
      "epoch 70 loss 0.05188148262600104\n",
      "__________________________________________________\n",
      "epoch 71 loss 0.055566360688147444\n",
      "__________________________________________________\n",
      "epoch 72 loss 0.04022971183837702\n",
      "__________________________________________________\n",
      "epoch 73 loss 0.035338542497872064\n",
      "__________________________________________________\n",
      "epoch 74 loss 0.040734014719103775\n",
      "__________________________________________________\n",
      "epoch 75 loss 0.038041662903657805\n",
      "__________________________________________________\n",
      "epoch 76 loss 0.05472772508549194\n",
      "__________________________________________________\n",
      "epoch 77 loss 0.03882185706713547\n",
      "__________________________________________________\n",
      "epoch 78 loss 0.039976845756173135\n",
      "__________________________________________________\n",
      "epoch 79 loss 0.02900633727821211\n",
      "__________________________________________________\n",
      "epoch 80 loss 0.028223020348426265\n",
      "__________________________________________________\n",
      "epoch 81 loss 0.029265559388635058\n",
      "__________________________________________________\n",
      "epoch 82 loss 0.05336368093073058\n",
      "__________________________________________________\n",
      "epoch 83 loss 0.017577183086735507\n",
      "__________________________________________________\n",
      "epoch 84 loss 0.02169475476529139\n",
      "__________________________________________________\n",
      "epoch 85 loss 0.04661297116661444\n",
      "__________________________________________________\n",
      "epoch 86 loss 0.037145680617541074\n",
      "__________________________________________________\n",
      "epoch 87 loss 0.05755530479790953\n",
      "__________________________________________________\n",
      "epoch 88 loss 0.038850469200406225\n",
      "__________________________________________________\n",
      "epoch 89 loss 0.02521416789793875\n",
      "__________________________________________________\n",
      "epoch 90 loss 0.04015265171105663\n",
      "__________________________________________________\n",
      "epoch 91 loss 0.036436120750537766\n",
      "__________________________________________________\n",
      "epoch 92 loss 0.020550771386479028\n",
      "__________________________________________________\n",
      "epoch 93 loss 0.022987268761886906\n",
      "__________________________________________________\n",
      "epoch 94 loss 0.015746514565932256\n",
      "__________________________________________________\n",
      "epoch 95 loss 0.00872068307401302\n",
      "__________________________________________________\n",
      "epoch 96 loss 0.006471030710963532\n",
      "__________________________________________________\n",
      "epoch 97 loss 0.046724588789899525\n",
      "__________________________________________________\n",
      "epoch 98 loss 0.013614901838785347\n",
      "__________________________________________________\n",
      "epoch 99 loss 0.010817256964704333\n",
      "__________________________________________________\n",
      "epoch 100 loss 0.027285638942751878\n",
      "__________________________________________________\n"
     ]
    }
   ],
   "source": [
    "# training Loop\n",
    "\n",
    "for epoch in range(epochs):\n",
    "\n",
    "    total_epoch_loss = 0\n",
    "    for batch_features,batch_labels in train_loader:\n",
    "\n",
    "        # forward pass\n",
    "        outputs = model(batch_features)\n",
    "\n",
    "        # calculate loss\n",
    "        loss = criterion(outputs,batch_labels)\n",
    "\n",
    "\n",
    "        # back pass\n",
    "        optimizer.zero_grad()\n",
    "        loss.backward()\n",
    "\n",
    "        # update weights\n",
    "        optimizer.step()\n",
    "\n",
    "        total_epoch_loss = total_epoch_loss + loss.item()\n",
    "\n",
    "    \n",
    "    print(f\"epoch {epoch+1} loss {total_epoch_loss/len(train_loader)}\")\n",
    "    print(\"_\"*50)\n",
    "\n"
   ]
  },
  {
   "cell_type": "code",
   "execution_count": 27,
   "id": "d5af95cf",
   "metadata": {},
   "outputs": [
    {
     "data": {
      "text/plain": [
       "MyNN(\n",
       "  (model): Sequential(\n",
       "    (0): Linear(in_features=784, out_features=128, bias=True)\n",
       "    (1): ReLU()\n",
       "    (2): Linear(in_features=128, out_features=64, bias=True)\n",
       "    (3): ReLU()\n",
       "    (4): Linear(in_features=64, out_features=10, bias=True)\n",
       "  )\n",
       ")"
      ]
     },
     "execution_count": 27,
     "metadata": {},
     "output_type": "execute_result"
    }
   ],
   "source": [
    "# set model to eval\n",
    "model.eval()"
   ]
  },
  {
   "cell_type": "code",
   "execution_count": 28,
   "id": "b3f95991",
   "metadata": {},
   "outputs": [
    {
     "data": {
      "text/plain": [
       "38"
      ]
     },
     "execution_count": 28,
     "metadata": {},
     "output_type": "execute_result"
    }
   ],
   "source": [
    "len(test_loader)"
   ]
  },
  {
   "cell_type": "code",
   "execution_count": 29,
   "id": "0e833fd6",
   "metadata": {},
   "outputs": [
    {
     "name": "stdout",
     "output_type": "stream",
     "text": [
      "0.82\n"
     ]
    }
   ],
   "source": [
    "# evaluation code\n",
    "total = 0\n",
    "correct = 0\n",
    "\n",
    "with torch.no_grad():\n",
    "    for batch_features,batch_labels in test_loader:\n",
    "        outputs = model(batch_features)\n",
    "\n",
    "        _, predicted = torch.max(outputs,1)\n",
    "\n",
    "        total = total + batch_labels.shape[0]\n",
    "\n",
    "        correct = correct + (predicted == batch_labels).sum().item()\n",
    "    \n",
    "    print(correct/total)\n"
   ]
  },
  {
   "cell_type": "code",
   "execution_count": null,
   "id": "dea6c897",
   "metadata": {},
   "outputs": [],
   "source": []
  }
 ],
 "metadata": {
  "kernelspec": {
   "display_name": "Torch_GPU",
   "language": "python",
   "name": "python3"
  },
  "language_info": {
   "codemirror_mode": {
    "name": "ipython",
    "version": 3
   },
   "file_extension": ".py",
   "mimetype": "text/x-python",
   "name": "python",
   "nbconvert_exporter": "python",
   "pygments_lexer": "ipython3",
   "version": "3.10.18"
  }
 },
 "nbformat": 4,
 "nbformat_minor": 5
}
