{
 "cells": [
  {
   "cell_type": "code",
   "execution_count": 21,
   "id": "d84a2a59",
   "metadata": {},
   "outputs": [],
   "source": [
    "import pandas as pd\n",
    "from sklearn.model_selection import train_test_split\n",
    "import torch\n",
    "from torch.utils.data import Dataset,DataLoader\n",
    "import torch.nn  as nn\n",
    "import torch.optim as optim\n",
    "import matplotlib.pyplot as plt"
   ]
  },
  {
   "cell_type": "code",
   "execution_count": 22,
   "id": "733f79c1",
   "metadata": {},
   "outputs": [
    {
     "data": {
      "text/plain": [
       "True"
      ]
     },
     "execution_count": 22,
     "metadata": {},
     "output_type": "execute_result"
    }
   ],
   "source": [
    "torch.cuda.is_available()"
   ]
  },
  {
   "cell_type": "code",
   "execution_count": 23,
   "id": "dd8d6634",
   "metadata": {},
   "outputs": [
    {
     "name": "stdout",
     "output_type": "stream",
     "text": [
      "cuda\n"
     ]
    }
   ],
   "source": [
    "device = torch.device('cuda' if torch.cuda.is_available() else 'cpu')\n",
    "print(device)"
   ]
  },
  {
   "cell_type": "code",
   "execution_count": 24,
   "id": "e71e694a",
   "metadata": {},
   "outputs": [
    {
     "data": {
      "text/plain": [
       "<torch._C.Generator at 0x1ef0ff57870>"
      ]
     },
     "execution_count": 24,
     "metadata": {},
     "output_type": "execute_result"
    }
   ],
   "source": [
    "torch.manual_seed(42)"
   ]
  },
  {
   "cell_type": "code",
   "execution_count": 25,
   "id": "9f1a0a22",
   "metadata": {},
   "outputs": [
    {
     "data": {
      "text/html": [
       "<div>\n",
       "<style scoped>\n",
       "    .dataframe tbody tr th:only-of-type {\n",
       "        vertical-align: middle;\n",
       "    }\n",
       "\n",
       "    .dataframe tbody tr th {\n",
       "        vertical-align: top;\n",
       "    }\n",
       "\n",
       "    .dataframe thead th {\n",
       "        text-align: right;\n",
       "    }\n",
       "</style>\n",
       "<table border=\"1\" class=\"dataframe\">\n",
       "  <thead>\n",
       "    <tr style=\"text-align: right;\">\n",
       "      <th></th>\n",
       "      <th>label</th>\n",
       "      <th>pixel1</th>\n",
       "      <th>pixel2</th>\n",
       "      <th>pixel3</th>\n",
       "      <th>pixel4</th>\n",
       "      <th>pixel5</th>\n",
       "      <th>pixel6</th>\n",
       "      <th>pixel7</th>\n",
       "      <th>pixel8</th>\n",
       "      <th>pixel9</th>\n",
       "      <th>...</th>\n",
       "      <th>pixel775</th>\n",
       "      <th>pixel776</th>\n",
       "      <th>pixel777</th>\n",
       "      <th>pixel778</th>\n",
       "      <th>pixel779</th>\n",
       "      <th>pixel780</th>\n",
       "      <th>pixel781</th>\n",
       "      <th>pixel782</th>\n",
       "      <th>pixel783</th>\n",
       "      <th>pixel784</th>\n",
       "    </tr>\n",
       "  </thead>\n",
       "  <tbody>\n",
       "    <tr>\n",
       "      <th>0</th>\n",
       "      <td>2</td>\n",
       "      <td>0</td>\n",
       "      <td>0</td>\n",
       "      <td>0</td>\n",
       "      <td>0</td>\n",
       "      <td>0</td>\n",
       "      <td>0</td>\n",
       "      <td>0</td>\n",
       "      <td>0</td>\n",
       "      <td>0</td>\n",
       "      <td>...</td>\n",
       "      <td>0</td>\n",
       "      <td>0</td>\n",
       "      <td>0</td>\n",
       "      <td>0</td>\n",
       "      <td>0</td>\n",
       "      <td>0</td>\n",
       "      <td>0</td>\n",
       "      <td>0</td>\n",
       "      <td>0</td>\n",
       "      <td>0</td>\n",
       "    </tr>\n",
       "    <tr>\n",
       "      <th>1</th>\n",
       "      <td>9</td>\n",
       "      <td>0</td>\n",
       "      <td>0</td>\n",
       "      <td>0</td>\n",
       "      <td>0</td>\n",
       "      <td>0</td>\n",
       "      <td>0</td>\n",
       "      <td>0</td>\n",
       "      <td>0</td>\n",
       "      <td>0</td>\n",
       "      <td>...</td>\n",
       "      <td>0</td>\n",
       "      <td>0</td>\n",
       "      <td>0</td>\n",
       "      <td>0</td>\n",
       "      <td>0</td>\n",
       "      <td>0</td>\n",
       "      <td>0</td>\n",
       "      <td>0</td>\n",
       "      <td>0</td>\n",
       "      <td>0</td>\n",
       "    </tr>\n",
       "    <tr>\n",
       "      <th>2</th>\n",
       "      <td>6</td>\n",
       "      <td>0</td>\n",
       "      <td>0</td>\n",
       "      <td>0</td>\n",
       "      <td>0</td>\n",
       "      <td>0</td>\n",
       "      <td>0</td>\n",
       "      <td>0</td>\n",
       "      <td>5</td>\n",
       "      <td>0</td>\n",
       "      <td>...</td>\n",
       "      <td>0</td>\n",
       "      <td>0</td>\n",
       "      <td>0</td>\n",
       "      <td>30</td>\n",
       "      <td>43</td>\n",
       "      <td>0</td>\n",
       "      <td>0</td>\n",
       "      <td>0</td>\n",
       "      <td>0</td>\n",
       "      <td>0</td>\n",
       "    </tr>\n",
       "    <tr>\n",
       "      <th>3</th>\n",
       "      <td>0</td>\n",
       "      <td>0</td>\n",
       "      <td>0</td>\n",
       "      <td>0</td>\n",
       "      <td>1</td>\n",
       "      <td>2</td>\n",
       "      <td>0</td>\n",
       "      <td>0</td>\n",
       "      <td>0</td>\n",
       "      <td>0</td>\n",
       "      <td>...</td>\n",
       "      <td>3</td>\n",
       "      <td>0</td>\n",
       "      <td>0</td>\n",
       "      <td>0</td>\n",
       "      <td>0</td>\n",
       "      <td>1</td>\n",
       "      <td>0</td>\n",
       "      <td>0</td>\n",
       "      <td>0</td>\n",
       "      <td>0</td>\n",
       "    </tr>\n",
       "    <tr>\n",
       "      <th>4</th>\n",
       "      <td>3</td>\n",
       "      <td>0</td>\n",
       "      <td>0</td>\n",
       "      <td>0</td>\n",
       "      <td>0</td>\n",
       "      <td>0</td>\n",
       "      <td>0</td>\n",
       "      <td>0</td>\n",
       "      <td>0</td>\n",
       "      <td>0</td>\n",
       "      <td>...</td>\n",
       "      <td>0</td>\n",
       "      <td>0</td>\n",
       "      <td>0</td>\n",
       "      <td>0</td>\n",
       "      <td>0</td>\n",
       "      <td>0</td>\n",
       "      <td>0</td>\n",
       "      <td>0</td>\n",
       "      <td>0</td>\n",
       "      <td>0</td>\n",
       "    </tr>\n",
       "  </tbody>\n",
       "</table>\n",
       "<p>5 rows × 785 columns</p>\n",
       "</div>"
      ],
      "text/plain": [
       "   label  pixel1  pixel2  pixel3  pixel4  pixel5  pixel6  pixel7  pixel8  \\\n",
       "0      2       0       0       0       0       0       0       0       0   \n",
       "1      9       0       0       0       0       0       0       0       0   \n",
       "2      6       0       0       0       0       0       0       0       5   \n",
       "3      0       0       0       0       1       2       0       0       0   \n",
       "4      3       0       0       0       0       0       0       0       0   \n",
       "\n",
       "   pixel9  ...  pixel775  pixel776  pixel777  pixel778  pixel779  pixel780  \\\n",
       "0       0  ...         0         0         0         0         0         0   \n",
       "1       0  ...         0         0         0         0         0         0   \n",
       "2       0  ...         0         0         0        30        43         0   \n",
       "3       0  ...         3         0         0         0         0         1   \n",
       "4       0  ...         0         0         0         0         0         0   \n",
       "\n",
       "   pixel781  pixel782  pixel783  pixel784  \n",
       "0         0         0         0         0  \n",
       "1         0         0         0         0  \n",
       "2         0         0         0         0  \n",
       "3         0         0         0         0  \n",
       "4         0         0         0         0  \n",
       "\n",
       "[5 rows x 785 columns]"
      ]
     },
     "execution_count": 25,
     "metadata": {},
     "output_type": "execute_result"
    }
   ],
   "source": [
    "df = pd.read_csv(\"data/fashion-mnist_train.csv\")\n",
    "df.head()"
   ]
  },
  {
   "cell_type": "code",
   "execution_count": 26,
   "id": "fc89aac2",
   "metadata": {},
   "outputs": [
    {
     "data": {
      "text/plain": [
       "60000"
      ]
     },
     "execution_count": 26,
     "metadata": {},
     "output_type": "execute_result"
    }
   ],
   "source": [
    "len(df)"
   ]
  },
  {
   "cell_type": "code",
   "execution_count": 27,
   "id": "cfad5092",
   "metadata": {},
   "outputs": [
    {
     "data": {
      "image/png": "[encoded data removed]",
      "text/plain": [
       "<Figure size 1000x1000 with 16 Axes>"
      ]
     },
     "metadata": {},
     "output_type": "display_data"
    }
   ],
   "source": [
    "# create a 4x4 grid of images\n",
    "fig, axes = plt.subplots(4,4,figsize=(10,10))\n",
    "fig.suptitle(\"First 15 images\",fontsize=15)\n",
    "\n",
    "for i ,ax in enumerate(axes.flat):\n",
    "    img = df.iloc[i,1:].values.reshape(28,28)\n",
    "    ax.imshow(img)\n",
    "    ax.axis('off')\n",
    "    ax.set_title(f\"Label: {df.iloc[i,0]}\")\n",
    "\n",
    "plt.tight_layout(rect=[0,0,1,0.96])\n",
    "plt.show()\n",
    "    "
   ]
  },
  {
   "cell_type": "code",
   "execution_count": 28,
   "id": "27455845",
   "metadata": {},
   "outputs": [],
   "source": [
    "# train test split\n",
    "\n",
    "X = df.iloc[:,1:].values\n",
    "y = df.iloc[:,0].values"
   ]
  },
  {
   "cell_type": "code",
   "execution_count": 29,
   "id": "bae9b782",
   "metadata": {},
   "outputs": [],
   "source": [
    "X_train,X_test,y_train,y_test = train_test_split(X,y,test_size=0.1,random_state=42)"
   ]
  },
  {
   "cell_type": "code",
   "execution_count": 30,
   "id": "3e2d1146",
   "metadata": {},
   "outputs": [
    {
     "data": {
      "text/plain": [
       "(54000, 784)"
      ]
     },
     "execution_count": 30,
     "metadata": {},
     "output_type": "execute_result"
    }
   ],
   "source": [
    "X_train.shape"
   ]
  },
  {
   "cell_type": "code",
   "execution_count": 31,
   "id": "75b74278",
   "metadata": {},
   "outputs": [],
   "source": [
    "X_train = X_train/255.0\n",
    "X_test = X_test/255.0"
   ]
  },
  {
   "cell_type": "code",
   "execution_count": 32,
   "id": "30b715a4",
   "metadata": {},
   "outputs": [
    {
     "data": {
      "text/plain": [
       "array([[0.        , 0.        , 0.        , ..., 0.        , 0.        ,\n",
       "        0.        ],\n",
       "       [0.        , 0.        , 0.        , ..., 0.        , 0.        ,\n",
       "        0.        ],\n",
       "       [0.        , 0.        , 0.        , ..., 0.        , 0.        ,\n",
       "        0.        ],\n",
       "       ...,\n",
       "       [0.        , 0.        , 0.        , ..., 0.        , 0.        ,\n",
       "        0.        ],\n",
       "       [0.        , 0.        , 0.        , ..., 0.        , 0.        ,\n",
       "        0.        ],\n",
       "       [0.        , 0.        , 0.        , ..., 0.00392157, 0.        ,\n",
       "        0.        ]], shape=(54000, 784))"
      ]
     },
     "execution_count": 32,
     "metadata": {},
     "output_type": "execute_result"
    }
   ],
   "source": [
    "X_train"
   ]
  },
  {
   "cell_type": "code",
   "execution_count": 33,
   "id": "bfdf598e",
   "metadata": {},
   "outputs": [],
   "source": [
    "# class CustomDataset Class\n",
    "class CustomDataset(Dataset):\n",
    "    def __init__(self,features,labels):\n",
    "        self.features = torch.tensor(features,dtype=torch.float32)\n",
    "        self.labels = torch.tensor(labels,dtype=torch.long)\n",
    "    \n",
    "    def __len__(self):\n",
    "        return len(self.features)\n",
    "    \n",
    "    def __getitem__(self,index):\n",
    "        return self.features[index] , self.labels[index]\n"
   ]
  },
  {
   "cell_type": "code",
   "execution_count": 34,
   "id": "04588a47",
   "metadata": {},
   "outputs": [],
   "source": [
    "# create train_dataset object\n",
    "train_dataset = CustomDataset(X_train,y_train)"
   ]
  },
  {
   "cell_type": "code",
   "execution_count": 35,
   "id": "f73ca6c1",
   "metadata": {},
   "outputs": [],
   "source": [
    "# create test dataset object\n",
    "test_dataset = CustomDataset(X_test,y_test)"
   ]
  },
  {
   "cell_type": "code",
   "execution_count": 36,
   "id": "02feba49",
   "metadata": {},
   "outputs": [],
   "source": [
    "# define the NN class\n",
    "\n",
    "class MyNN(nn.Module):\n",
    "    def __init__(self,input_dim,output_dim,num_hidden_layers,neuron_per_layers,dropout_rate):\n",
    "\n",
    "        super().__init__()\n",
    "\n",
    "        layers = []\n",
    "\n",
    "        for i in range(num_hidden_layers):\n",
    "            \n",
    "            layers.append(nn.Linear(input_dim,neuron_per_layers))\n",
    "            layers.append(nn.BatchNorm1d(neuron_per_layers))\n",
    "            layers.append(nn.ReLU())\n",
    "            layers.append(nn.Dropout(dropout_rate))\n",
    "            input_dim = neuron_per_layers\n",
    "\n",
    "        layers.append(nn.Linear(neuron_per_layers,output_dim))\n",
    "\n",
    "        self.model = nn.Sequential(*layers)\n",
    "\n",
    "\n",
    "    def forward(self,x):\n",
    "\n",
    "        return self.model(x)"
   ]
  },
  {
   "cell_type": "code",
   "execution_count": 40,
   "id": "d4bdddc4",
   "metadata": {},
   "outputs": [],
   "source": [
    "# objective function\n",
    "\n",
    "def objective(trial):\n",
    "    # next hyperparameter values from the search space\n",
    "    num_hidden_layers = trial.suggest_int(\"num_hidden_layers\",1,5)\n",
    "    neuron_per_layers = trial.suggest_int(\"neuron_per_layers\",8,128,step=8)\n",
    "\n",
    "    epochs = trial.suggest_int(\"epochs\",10,50,step=10)\n",
    "    learning_rate = trial.suggest_float(\"learning_rate\",1e-5,1e-1,log=True)\n",
    "\n",
    "    dropout_rate = trial.suggest_float(\"dropout_rate\",0.1,0.5,step=0.1)\n",
    "\n",
    "    batch_size = trial.suggest_categorical(\"batch_size\",[16,32,64,128])\n",
    "\n",
    "    optimizer_name = trial.suggest_categorical(\"optimizer\",['Adam','SGD','RMSprop'])\n",
    "\n",
    "    weight_decay = trial.suggest_float(\"weight_decay\",1e-5,1e-3,log=True)\n",
    "\n",
    "    # create train and test loader\n",
    "    train_loader = DataLoader(train_dataset,batch_size=batch_size,shuffle=True,pin_memory=True)\n",
    "    test_loader = DataLoader(test_dataset,batch_size=batch_size,shuffle=False,pin_memory=True)\n",
    "\n",
    "    # model init\n",
    "    input_dim = 784\n",
    "    output_dim = 10\n",
    "\n",
    "    model = MyNN(input_dim,output_dim,num_hidden_layers,neuron_per_layers,dropout_rate)\n",
    "    model.to(device)\n",
    "\n",
    "    # optimizer selection\n",
    "    criterion = nn.CrossEntropyLoss()\n",
    "\n",
    "    if optimizer_name == 'Adam':\n",
    "        optimizer = optim.Adam(model.parameters(),lr=learning_rate,weight_decay=weight_decay)\n",
    "    elif optimizer_name == 'SGD':\n",
    "        optimizer = optim.SGD(model.parameters(),lr=learning_rate,weight_decay=weight_decay)\n",
    "    else:\n",
    "        optimizer = optim.RMSprop(model.parameters(),lr=learning_rate,weight_decay=weight_decay)\n",
    "    \n",
    "\n",
    "    # training loop\n",
    "\n",
    "    for epoch in range(epochs):\n",
    "\n",
    "        total_epoch_loss = 0\n",
    "        for batch_features,batch_labels in train_loader:\n",
    "\n",
    "            # move data to gpu\n",
    "            batch_features,batch_labels = batch_features.to(device),batch_labels.to(device)\n",
    "\n",
    "            # forward pass\n",
    "            outputs = model(batch_features)\n",
    "\n",
    "            # calculate loss\n",
    "            loss = criterion(outputs,batch_labels)\n",
    "\n",
    "\n",
    "            # back pass\n",
    "            optimizer.zero_grad()\n",
    "            loss.backward()\n",
    "\n",
    "            # update weights\n",
    "            optimizer.step()\n",
    "\n",
    "            total_epoch_loss = total_epoch_loss + loss.item()\n",
    "            \n",
    "\n",
    "    # evaluation\n",
    "    model.eval()\n",
    "\n",
    "    total = 0\n",
    "    correct = 0\n",
    "\n",
    "    with torch.no_grad():\n",
    "        for batch_features,batch_labels in test_loader:\n",
    "\n",
    "            batch_features,batch_labels = batch_features.to(device),batch_labels.to(device)\n",
    "\n",
    "            outputs = model(batch_features)\n",
    "\n",
    "            _, predicted = torch.max(outputs,1)\n",
    "\n",
    "            total = total + batch_labels.shape[0]\n",
    "\n",
    "            correct = correct + (predicted == batch_labels).sum().item()\n",
    "        \n",
    "        accuracy = correct/total\n",
    "\n",
    "    return accuracy"
   ]
  },
  {
   "cell_type": "code",
   "execution_count": 41,
   "id": "3d1f47c7",
   "metadata": {},
   "outputs": [
    {
     "name": "stderr",
     "output_type": "stream",
     "text": [
      "[I 2025-07-14 19:35:05,157] A new study created in memory with name: no-name-9239ce1b-0401-49ec-b43a-54d02781cd7b\n"
     ]
    }
   ],
   "source": [
    "import optuna\n",
    "\n",
    "study = optuna.create_study(direction='maximize')"
   ]
  },
  {
   "cell_type": "code",
   "execution_count": 42,
   "id": "e6f0af97",
   "metadata": {},
   "outputs": [
    {
     "name": "stderr",
     "output_type": "stream",
     "text": [
      "[I 2025-07-14 19:37:17,581] Trial 0 finished with value: 0.8676666666666667 and parameters: {'num_hidden_layers': 3, 'neuron_per_layers': 16, 'epochs': 50, 'learning_rate': 0.00014013000356569126, 'dropout_rate': 0.1, 'batch_size': 128, 'optimizer': 'Adam', 'weight_decay': 0.00016090265609563736}. Best is trial 0 with value: 0.8676666666666667.\n",
      "[I 2025-07-14 19:38:35,370] Trial 1 finished with value: 0.7151666666666666 and parameters: {'num_hidden_layers': 1, 'neuron_per_layers': 16, 'epochs': 10, 'learning_rate': 0.022546060569231745, 'dropout_rate': 0.4, 'batch_size': 16, 'optimizer': 'RMSprop', 'weight_decay': 0.0003598635052179985}. Best is trial 0 with value: 0.8676666666666667.\n",
      "[I 2025-07-14 19:43:54,739] Trial 2 finished with value: 0.8726666666666667 and parameters: {'num_hidden_layers': 1, 'neuron_per_layers': 80, 'epochs': 40, 'learning_rate': 0.005683190131057685, 'dropout_rate': 0.30000000000000004, 'batch_size': 16, 'optimizer': 'Adam', 'weight_decay': 1.3728077099232761e-05}. Best is trial 2 with value: 0.8726666666666667.\n",
      "[I 2025-07-14 19:44:52,896] Trial 3 finished with value: 0.8771666666666667 and parameters: {'num_hidden_layers': 1, 'neuron_per_layers': 80, 'epochs': 20, 'learning_rate': 3.873514713257124e-05, 'dropout_rate': 0.2, 'batch_size': 64, 'optimizer': 'Adam', 'weight_decay': 0.00031862976989948657}. Best is trial 3 with value: 0.8771666666666667.\n",
      "[I 2025-07-14 19:57:40,573] Trial 4 finished with value: 0.8926666666666667 and parameters: {'num_hidden_layers': 4, 'neuron_per_layers': 72, 'epochs': 50, 'learning_rate': 0.00035448863979203947, 'dropout_rate': 0.2, 'batch_size': 16, 'optimizer': 'Adam', 'weight_decay': 0.00010335715680565133}. Best is trial 4 with value: 0.8926666666666667.\n",
      "[I 2025-07-14 19:58:22,903] Trial 5 finished with value: 0.7103333333333334 and parameters: {'num_hidden_layers': 3, 'neuron_per_layers': 16, 'epochs': 10, 'learning_rate': 0.0003603807924356374, 'dropout_rate': 0.5, 'batch_size': 64, 'optimizer': 'RMSprop', 'weight_decay': 6.768067232771969e-05}. Best is trial 4 with value: 0.8926666666666667.\n",
      "[I 2025-07-14 20:03:40,647] Trial 6 finished with value: 0.8631666666666666 and parameters: {'num_hidden_layers': 4, 'neuron_per_layers': 80, 'epochs': 40, 'learning_rate': 0.002161129190651812, 'dropout_rate': 0.4, 'batch_size': 32, 'optimizer': 'Adam', 'weight_decay': 0.000125870942216274}. Best is trial 4 with value: 0.8926666666666667.\n",
      "[I 2025-07-14 20:05:47,730] Trial 7 finished with value: 0.887 and parameters: {'num_hidden_layers': 3, 'neuron_per_layers': 120, 'epochs': 50, 'learning_rate': 1.182872467860765e-05, 'dropout_rate': 0.1, 'batch_size': 128, 'optimizer': 'Adam', 'weight_decay': 3.261530119849008e-05}. Best is trial 4 with value: 0.8926666666666667.\n",
      "[I 2025-07-14 20:06:52,871] Trial 8 finished with value: 0.6936666666666667 and parameters: {'num_hidden_layers': 5, 'neuron_per_layers': 96, 'epochs': 20, 'learning_rate': 0.08172493564428601, 'dropout_rate': 0.2, 'batch_size': 128, 'optimizer': 'Adam', 'weight_decay': 3.467091035383245e-05}. Best is trial 4 with value: 0.8926666666666667.\n",
      "[I 2025-07-14 20:09:14,305] Trial 9 finished with value: 0.851 and parameters: {'num_hidden_layers': 4, 'neuron_per_layers': 64, 'epochs': 30, 'learning_rate': 0.0027242622918945197, 'dropout_rate': 0.4, 'batch_size': 64, 'optimizer': 'SGD', 'weight_decay': 0.00015737624339003903}. Best is trial 4 with value: 0.8926666666666667.\n"
     ]
    }
   ],
   "source": [
    "study.optimize(objective,n_trials=10)"
   ]
  },
  {
   "cell_type": "code",
   "execution_count": 43,
   "id": "340cccd1",
   "metadata": {},
   "outputs": [
    {
     "data": {
      "text/plain": [
       "0.8926666666666667"
      ]
     },
     "execution_count": 43,
     "metadata": {},
     "output_type": "execute_result"
    }
   ],
   "source": [
    "study.best_value"
   ]
  },
  {
   "cell_type": "code",
   "execution_count": 44,
   "id": "7308d15e",
   "metadata": {},
   "outputs": [
    {
     "data": {
      "text/plain": [
       "{'num_hidden_layers': 4,\n",
       " 'neuron_per_layers': 72,\n",
       " 'epochs': 50,\n",
       " 'learning_rate': 0.00035448863979203947,\n",
       " 'dropout_rate': 0.2,\n",
       " 'batch_size': 16,\n",
       " 'optimizer': 'Adam',\n",
       " 'weight_decay': 0.00010335715680565133}"
      ]
     },
     "execution_count": 44,
     "metadata": {},
     "output_type": "execute_result"
    }
   ],
   "source": [
    "study.best_params"
   ]
  },
  {
   "cell_type": "code",
   "execution_count": null,
   "id": "59112466",
   "metadata": {},
   "outputs": [],
   "source": []
  }
 ],
 "metadata": {
  "kernelspec": {
   "display_name": "Torch_GPU",
   "language": "python",
   "name": "python3"
  },
  "language_info": {
   "codemirror_mode": {
    "name": "ipython",
    "version": 3
   },
   "file_extension": ".py",
   "mimetype": "text/x-python",
   "name": "python",
   "nbconvert_exporter": "python",
   "pygments_lexer": "ipython3",
   "version": "3.10.18"
  }
 },
 "nbformat": 4,
 "nbformat_minor": 5
}
